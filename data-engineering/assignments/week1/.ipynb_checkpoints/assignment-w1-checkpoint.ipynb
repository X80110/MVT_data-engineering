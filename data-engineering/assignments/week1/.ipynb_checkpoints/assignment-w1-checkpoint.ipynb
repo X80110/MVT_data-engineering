{
 "cells": [
  {
   "cell_type": "markdown",
   "metadata": {},
   "source": [
    "# Part 3 - CSV files with Python standard libraries\n",
    "\n",
    "- Create a notebook in the week1 assignment directory.\n",
    "- Use Python's `csv` library to read the `earthquakes.csv` file as we did in class\n",
    "    - Remember you can use either the official documentation or a tutorial as a reference for how to do this"
   ]
  },
  {
   "cell_type": "code",
   "execution_count": 4,
   "metadata": {},
   "outputs": [],
   "source": [
    "import csv"
   ]
  },
  {
   "cell_type": "markdown",
   "metadata": {},
   "source": [
    "    \n",
    "#### Challenge 1\n",
    "Print out the times, places, and magnitude of the earthquakes that were 6 or higher magnitude\n",
    "   - Remember this will require you to convert the magnitude from a string to a float\n",
    "    "
   ]
  },
  {
   "cell_type": "markdown",
   "metadata": {},
   "source": [
    "#### Challenge 2\n",
    "See if you can list only the earthquakes that happened on the date `2016-08-04`. How many of them are there?\n",
    "- **Hint**: There are two methods you can use here to filter the rows - (1) you can work with the dates as they are (as strings) or (2) you can convert them to datetime objects first.\n"
   ]
  },
  {
   "cell_type": "code",
   "execution_count": null,
   "metadata": {},
   "outputs": [],
   "source": []
  }
 ],
 "metadata": {
  "kernelspec": {
   "display_name": "Python 3.7.6 64-bit ('base')",
   "language": "python",
   "name": "python37664bitbase231323e15d2a4139a54ec3c09755c5b1"
  },
  "language_info": {
   "codemirror_mode": {
    "name": "ipython",
    "version": 3
   },
   "file_extension": ".py",
   "mimetype": "text/x-python",
   "name": "python",
   "nbconvert_exporter": "python",
   "pygments_lexer": "ipython3",
   "version": "3.7.9"
  }
 },
 "nbformat": 4,
 "nbformat_minor": 4
}
